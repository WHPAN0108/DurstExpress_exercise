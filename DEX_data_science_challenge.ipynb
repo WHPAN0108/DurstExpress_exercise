{
 "cells": [
  {
   "cell_type": "markdown",
   "metadata": {},
   "source": [
    "# Durstexpress data science application challenge\n",
    "\n",
    "Thank you for applying to work at Durstexpress and for taking the time to attempt this challenge!\n",
    "\n",
    "The purpose of the challenge is to assess your technical skill in data science. Should you be invited to an onsite interview, your solutions will also be the starting point for technical discussions at that interview.\n",
    "\n",
    "The topic of this challenge is the quantitative assessment of the effect of external factors on beer sales. The (artifical) dataset for two tasks below is in the file `data.csv`, which you should have also received. This dataset contains the follwoing values for each day of 2019:\n",
    "\n",
    "* Number of crates of beers sold\n",
    "* Hours of daylight\n",
    "* Public holiday (0 or 1)\n",
    "* Mean temperature in °C\n",
    "\n",
    "Before you begin the challenge, please read the following instructions:\n",
    "* Please include your name and the date in the first cell of the notebook.\n",
    "* Please write your solutions in Python.\n",
    "* Please explain your working. This doean't have to be extensive, but enough for someone reading your notebook to be able to understand what you have done.\n",
    "* You need only consider linear models.\n",
    "* Once you have completed the two tasks below, please email your .ipynb file to your contact person at Durstexpress HR."
   ]
  },
  {
   "cell_type": "markdown",
   "metadata": {},
   "source": [
    "# Task 1: Quantitatively assess the impact of these factors on beer sales."
   ]
  },
  {
   "cell_type": "markdown",
   "metadata": {},
   "source": [
    "# Task 2: Using only the dataset provided, can you find and quantitatively assess other factors affecting beer sales?\n",
    "This is an open-ended task that would take quite some time to investigate fully. **You do not need to go further than running a simple linear regression with the new covariates that you find.** However, as preparation for the onsite interview, think about how you would proceed after the initial linear regression."
   ]
  }
 ],
 "metadata": {
  "kernelspec": {
   "display_name": "Python 3",
   "language": "python",
   "name": "python3"
  },
  "language_info": {
   "codemirror_mode": {
    "name": "ipython",
    "version": 3
   },
   "file_extension": ".py",
   "mimetype": "text/x-python",
   "name": "python",
   "nbconvert_exporter": "python",
   "pygments_lexer": "ipython3",
   "version": "3.6.3"
  }
 },
 "nbformat": 4,
 "nbformat_minor": 4
}
